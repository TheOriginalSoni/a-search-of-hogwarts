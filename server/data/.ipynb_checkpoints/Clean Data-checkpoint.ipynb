{
 "cells": [
  {
   "cell_type": "code",
   "execution_count": 1,
   "metadata": {},
   "outputs": [
    {
     "data": {
      "text/plain": [
       "['.ipynb_checkpoints',\n",
       " 'Backup',\n",
       " \"Book 1 - The Philosopher's Stone.txt\",\n",
       " 'Book 2 - The Chamber of Secrets.txt',\n",
       " 'Book 3 - The Prisoner of Azkaban.txt',\n",
       " 'Book 4 - The Goblet of Fire.txt',\n",
       " 'Book 5 - The Order of the Phoenix.txt',\n",
       " 'Book 6 - The Half Blood Prince.txt',\n",
       " 'Book 7 - The Deathly Hallows.txt',\n",
       " 'Untitled.ipynb']"
      ]
     },
     "execution_count": 1,
     "metadata": {},
     "output_type": "execute_result"
    }
   ],
   "source": [
    "import os\n",
    "os.listdir()"
   ]
  },
  {
   "cell_type": "code",
   "execution_count": 2,
   "metadata": {},
   "outputs": [],
   "source": [
    "books = [ \"Book 1 - The Philosopher's Stone.txt\",\n",
    " 'Book 2 - The Chamber of Secrets.txt',\n",
    " 'Book 3 - The Prisoner of Azkaban.txt',\n",
    " 'Book 4 - The Goblet of Fire.txt',\n",
    " 'Book 5 - The Order of the Phoenix.txt',\n",
    " 'Book 6 - The Half Blood Prince.txt',\n",
    " 'Book 7 - The Deathly Hallows.txt',]\n",
    "data = {}\n",
    "for book in books:\n",
    "    with open(book, encoding=\"utf8\") as f:\n",
    "        data[book] = f.read()"
   ]
  },
  {
   "cell_type": "code",
   "execution_count": null,
   "metadata": {},
   "outputs": [],
   "source": [
    "for keys in "
   ]
  }
 ],
 "metadata": {
  "kernelspec": {
   "display_name": "Python 3",
   "language": "python",
   "name": "python3"
  },
  "language_info": {
   "codemirror_mode": {
    "name": "ipython",
    "version": 3
   },
   "file_extension": ".py",
   "mimetype": "text/x-python",
   "name": "python",
   "nbconvert_exporter": "python",
   "pygments_lexer": "ipython3",
   "version": "3.8.5"
  }
 },
 "nbformat": 4,
 "nbformat_minor": 4
}
