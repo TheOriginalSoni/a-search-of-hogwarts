{
 "cells": [
  {
   "cell_type": "code",
   "execution_count": 1,
   "metadata": {},
   "outputs": [
    {
     "data": {
      "text/plain": [
       "['.ipynb_checkpoints',\n",
       " 'Backup',\n",
       " \"Book 1 - The Philosopher's Stone.txt\",\n",
       " 'Book 2 - The Chamber of Secrets.txt',\n",
       " 'Book 3 - The Prisoner of Azkaban.txt',\n",
       " 'Book 4 - The Goblet of Fire.txt',\n",
       " 'Book 5 - The Order of the Phoenix.txt',\n",
       " 'Book 6 - The Half Blood Prince.txt',\n",
       " 'Book 7 - The Deathly Hallows.txt',\n",
       " 'Untitled.ipynb']"
      ]
     },
     "execution_count": 1,
     "metadata": {},
     "output_type": "execute_result"
    }
   ],
   "source": [
    "import os\n",
    "os.listdir()"
   ]
  },
  {
   "cell_type": "code",
   "execution_count": 2,
   "metadata": {},
   "outputs": [],
   "source": [
    "books = [ \"Book 1 - The Philosopher's Stone.txt\",\n",
    " 'Book 2 - The Chamber of Secrets.txt',\n",
    " 'Book 3 - The Prisoner of Azkaban.txt',\n",
    " 'Book 4 - The Goblet of Fire.txt',\n",
    " 'Book 5 - The Order of the Phoenix.txt',\n",
    " 'Book 6 - The Half Blood Prince.txt',\n",
    " 'Book 7 - The Deathly Hallows.txt',]\n",
    "data = {}\n",
    "for book in books:\n",
    "    with open(book, encoding=\"utf8\") as f:\n",
    "        data[book] = f.read()"
   ]
  },
  {
   "cell_type": "code",
   "execution_count": 4,
   "metadata": {},
   "outputs": [
    {
     "name": "stdout",
     "output_type": "stream",
     "text": [
      "Mr. and Mrs. Dursley, of number four, Privet Drive, were proud to say that they were perfectly normal, thank you very much. They were the last people you’d expect to be involved in anything strange or mysterious, because they just didn’t hold with such nonsense. \n",
      "Not for the first time, an argument had broken out over breakfast at number four, Privet Drive. Mr. Vernon Dursley had been woken in the early hours of the morning by a loud, hooting noise from his nephew Harry’s room. \n",
      "Harry Potter was a highly unusual boy in many ways. For one thing, he hated the summer holidays more than any other time of year. For another, he really wanted to do his homework but was forced to do it in secret, in the dead of night. And he also happened to be a wizard. \n",
      "The villagers of Little Hangleton still called it “the Riddle House,” even though it had been many years since the Riddle family had lived there. It stood on a hill overlooking the village, some of its windows boarded, tiles missing from its roof, and ivy spreading unchecked over its face. Once a fine-looking manor, and easily the largest and grandest building for miles around, the Riddle House was now damp, derelict, and unoccupied. \n",
      "The hottest day of the summer so far was drawing to a close and a drowsy silence lay over the large, square houses of Privet Drive. Cars that were usually gleaming stood dusty in their drives and lawns that were once emerald green lay parched and yellowing; the use of hosepipes had been banned due to drought. Deprived of their usual car-washing and lawn-mowing pursuits, the inhabitants of Privet Drive had retreated into the shade of their cool houses, windows thrown wide in the hope of tempting in a nonexistent breeze. The only person left outdoors was a teenage boy who was lying flat on his back in a flower bed outside number four. \n",
      "It was nearing midnight and the Prime Minister was sitting alone in his office, reading a long memo that was slipping through his brain without leaving the slightest trace of meaning behind. He was waiting for a call from the President of a far distant country, and between wondering when the wretched man would telephone, and trying to suppress unpleasant memories of what had been a very long, tiring, and difficult week, there was not much space in his head for anything else. The more he attempted to focus on the print on the page before him, the more clearly the Prime Minister could see the gloating face of one of his political opponents. This particular opponent had appeared on the news that very day, not only to enumerate all the terrible things that had happened in the last week (as though anyone needed reminding) but also to explain why each and every one of them was the government’s fault. \n",
      "The two men appeared out of nowhere, a few yards apart in the narrow, moonlit lane. For a second they stood quite still, wands directed at each other’s chests; then, recognizing each other, they stowed their wands beneath their cloaks and started walking briskly in the same direction. \n"
     ]
    }
   ],
   "source": [
    "for book in data.keys():\n",
    "    lines = [line for line in data[book].split('\\n') if 'Rowling' not in line and not line.isupper()]\n",
    "    new_words = []\n",
    "    combine = False\n",
    "    for line in lines:\n",
    "        if not combine:\n",
    "            new_words.append(line)\n",
    "        else:\n",
    "            new_words[-1] += line\n",
    "        combine = line[-2]\n",
    "#     print(lines[0])\n",
    "#     text = '\\n'.join(data[book])\n",
    "#     with open(book, 'w', encoding=\"utf8\") as f:\n",
    "#         f.write(text)"
   ]
  },
  {
   "cell_type": "code",
   "execution_count": null,
   "metadata": {},
   "outputs": [],
   "source": []
  }
 ],
 "metadata": {
  "kernelspec": {
   "display_name": "Python 3",
   "language": "python",
   "name": "python3"
  },
  "language_info": {
   "codemirror_mode": {
    "name": "ipython",
    "version": 3
   },
   "file_extension": ".py",
   "mimetype": "text/x-python",
   "name": "python",
   "nbconvert_exporter": "python",
   "pygments_lexer": "ipython3",
   "version": "3.8.5"
  }
 },
 "nbformat": 4,
 "nbformat_minor": 4
}
