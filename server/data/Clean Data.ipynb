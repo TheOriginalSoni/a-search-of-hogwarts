{
 "cells": [
  {
   "cell_type": "code",
   "execution_count": 1,
   "metadata": {},
   "outputs": [
    {
     "data": {
      "text/plain": [
       "['.ipynb_checkpoints',\n",
       " 'Backup',\n",
       " \"Book 1 - The Philosopher's Stone.txt\",\n",
       " 'Book 2 - The Chamber of Secrets.txt',\n",
       " 'Book 3 - The Prisoner of Azkaban.txt',\n",
       " 'Book 4 - The Goblet of Fire.txt',\n",
       " 'Book 5 - The Order of the Phoenix.txt',\n",
       " 'Book 6 - The Half Blood Prince.txt',\n",
       " 'Book 7 - The Deathly Hallows.txt',\n",
       " 'Untitled.ipynb']"
      ]
     },
     "execution_count": 1,
     "metadata": {},
     "output_type": "execute_result"
    }
   ],
   "source": [
    "import os\n",
    "os.listdir()"
   ]
  },
  {
   "cell_type": "code",
   "execution_count": 2,
   "metadata": {},
   "outputs": [],
   "source": [
    "books = [ \"Book 1 - The Philosopher's Stone.txt\",\n",
    " 'Book 2 - The Chamber of Secrets.txt',\n",
    " 'Book 3 - The Prisoner of Azkaban.txt',\n",
    " 'Book 4 - The Goblet of Fire.txt',\n",
    " 'Book 5 - The Order of the Phoenix.txt',\n",
    " 'Book 6 - The Half Blood Prince.txt',\n",
    " 'Book 7 - The Deathly Hallows.txt',]\n",
    "data = {}\n",
    "for book in books:\n",
    "    with open(book, encoding=\"utf8\") as f:\n",
    "        data[book] = f.read()"
   ]
  },
  {
   "cell_type": "code",
   "execution_count": 4,
   "metadata": {},
   "outputs": [],
   "source": [
    "data[\"Book 1 - The Philosopher's Stone.txt\"] = [line for line in data[\"Book 1 - The Philosopher's Stone.txt\"].split('\\n') if 'Page | ' not in line and not line.isupper()]\n"
   ]
  },
  {
   "cell_type": "code",
   "execution_count": 14,
   "metadata": {},
   "outputs": [],
   "source": [
    "text = '\\n'.join(data[\"Book 1 - The Philosopher's Stone.txt\"])\n",
    "import re\n",
    "text = re.sub(r'\\n\\n+', '??linebreak??', text)\n",
    "text = text.replace('\\n', '')\n",
    "text = text.replace('??linebreak??', '\\n')\n"
   ]
  },
  {
   "cell_type": "code",
   "execution_count": 15,
   "metadata": {},
   "outputs": [],
   "source": [
    "with open('parsed_1.txt', 'w', encoding=\"utf8\") as f:\n",
    "    f.write(text)"
   ]
  },
  {
   "cell_type": "code",
   "execution_count": 16,
   "metadata": {},
   "outputs": [],
   "source": [
    "del data[\"Book 1 - The Philosopher's Stone.txt\"]"
   ]
  },
  {
   "cell_type": "code",
   "execution_count": 19,
   "metadata": {},
   "outputs": [],
   "source": [
    "for book in data.keys():\n",
    "#     data[book] = [line for line in data[book].split('\\n') if 'Page | ' not in line and not line.isupper()]\n",
    "    text = '\\n'.join(data[book])\n",
    "    text = re.sub(r'\\n\\n+', '??linebreak??', text)\n",
    "    text = text.replace('\\n', '')\n",
    "    text = text.replace('??linebreak??', '\\n')\n",
    "    with open(book, 'w', encoding=\"utf8\") as f:\n",
    "        f.write(text)"
   ]
  },
  {
   "cell_type": "code",
   "execution_count": null,
   "metadata": {},
   "outputs": [],
   "source": []
  }
 ],
 "metadata": {
  "kernelspec": {
   "display_name": "Python 3",
   "language": "python",
   "name": "python3"
  },
  "language_info": {
   "codemirror_mode": {
    "name": "ipython",
    "version": 3
   },
   "file_extension": ".py",
   "mimetype": "text/x-python",
   "name": "python",
   "nbconvert_exporter": "python",
   "pygments_lexer": "ipython3",
   "version": "3.8.5"
  }
 },
 "nbformat": 4,
 "nbformat_minor": 4
}
